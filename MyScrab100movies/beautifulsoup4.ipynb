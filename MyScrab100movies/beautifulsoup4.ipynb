{
 "cells": [
  {
   "cell_type": "code",
   "execution_count": 1,
   "id": "23011d4e-b903-4c6e-a109-e4df0dd67050",
   "metadata": {},
   "outputs": [],
   "source": [
    "from bs4 import BeautifulSoup\n",
    "# import  lxml\n",
    "\n",
    "with open('website.html') as file:\n",
    "    contents = file.read()\n",
    "\n",
    "soup = BeautifulSoup(contents, \"html.parser\")"
   ]
  },
  {
   "cell_type": "code",
   "execution_count": 2,
   "id": "4e3d67fd-37b5-464c-93e3-bfc721316142",
   "metadata": {},
   "outputs": [
    {
     "data": {
      "text/plain": [
       "<!DOCTYPE html>\n",
       "\n",
       "<html>\n",
       "<head>\n",
       "<meta charset=\"utf-8\"/>\n",
       "<title>Angela's Personal Site</title>\n",
       "</head>\n",
       "<body>\n",
       "<h1 id=\"name\">Angela Yu</h1>\n",
       "<p><em>Founder of <strong><a href=\"https://www.appbrewery.co/\">The App Brewery</a></strong>.</em></p>\n",
       "<p>I am an iOS and Web Developer. I ❤️ coffee and motorcycles.</p>\n",
       "<hr/>\n",
       "<h3 class=\"heading\">Books and Teaching</h3>\n",
       "<ul>\n",
       "<li>The Complete iOS App Development Bootcamp</li>\n",
       "<li>The Complete Web Development Bootcamp</li>\n",
       "<li>100 Days of Code - The Complete Python Bootcamp</li>\n",
       "</ul>\n",
       "<hr/>\n",
       "<h3 class=\"heading\">Other Pages</h3>\n",
       "<a href=\"https://angelabauer.github.io/cv/hobbies.html\">My Hobbies</a>\n",
       "<a href=\"https://angelabauer.github.io/cv/contact-me.html\">Contact Me</a>\n",
       "</body>\n",
       "</html>"
      ]
     },
     "execution_count": 2,
     "metadata": {},
     "output_type": "execute_result"
    }
   ],
   "source": [
    "soup"
   ]
  },
  {
   "cell_type": "markdown",
   "id": "3b5011fa-ad9b-4878-ab14-90df5b830ef8",
   "metadata": {},
   "source": [
    "## ~~~~~~~~~~~~~~~~~~~~~~~~~"
   ]
  },
  {
   "cell_type": "code",
   "execution_count": 3,
   "id": "50c45103-c9d4-4d8d-9dbe-20aafc7e6eba",
   "metadata": {},
   "outputs": [
    {
     "data": {
      "text/plain": [
       "<title>Angela's Personal Site</title>"
      ]
     },
     "execution_count": 3,
     "metadata": {},
     "output_type": "execute_result"
    }
   ],
   "source": [
    "soup.title"
   ]
  },
  {
   "cell_type": "markdown",
   "id": "314afbbb-f57a-4c94-bb88-85187137ff3a",
   "metadata": {},
   "source": [
    "## ~~~~~~~~~~~~~~~~~~~~~~~~~"
   ]
  },
  {
   "cell_type": "code",
   "execution_count": 4,
   "id": "a2b05ee0-be2b-469e-b4d3-aa7f62fdfc18",
   "metadata": {},
   "outputs": [
    {
     "data": {
      "text/plain": [
       "'title'"
      ]
     },
     "execution_count": 4,
     "metadata": {},
     "output_type": "execute_result"
    }
   ],
   "source": [
    "soup.title.name"
   ]
  },
  {
   "cell_type": "markdown",
   "id": "ee92cab8-c6e3-4816-98e7-12f928e0bec0",
   "metadata": {},
   "source": [
    "## ~~~~~~~~~~~~~~~~~~~~~~~~~"
   ]
  },
  {
   "cell_type": "code",
   "execution_count": 5,
   "id": "1a7bf635-c7c2-4630-987e-f92e53623929",
   "metadata": {},
   "outputs": [
    {
     "data": {
      "text/plain": [
       "\"Angela's Personal Site\""
      ]
     },
     "execution_count": 5,
     "metadata": {},
     "output_type": "execute_result"
    }
   ],
   "source": [
    "soup.title.string"
   ]
  },
  {
   "cell_type": "markdown",
   "id": "b31160cd-5ab3-4e2a-bc47-eb0449790f5b",
   "metadata": {},
   "source": [
    "## ~~~~~~~~~~~~~~~~~~~~~~~~~"
   ]
  },
  {
   "cell_type": "code",
   "execution_count": 6,
   "id": "ca61b042-00a9-4472-8e07-bcd2484fa5ce",
   "metadata": {},
   "outputs": [
    {
     "name": "stdout",
     "output_type": "stream",
     "text": [
      "<!DOCTYPE html>\n",
      "<html>\n",
      " <head>\n",
      "  <meta charset=\"utf-8\"/>\n",
      "  <title>\n",
      "   Angela's Personal Site\n",
      "  </title>\n",
      " </head>\n",
      " <body>\n",
      "  <h1 id=\"name\">\n",
      "   Angela Yu\n",
      "  </h1>\n",
      "  <p>\n",
      "   <em>\n",
      "    Founder of\n",
      "    <strong>\n",
      "     <a href=\"https://www.appbrewery.co/\">\n",
      "      The App Brewery\n",
      "     </a>\n",
      "    </strong>\n",
      "    .\n",
      "   </em>\n",
      "  </p>\n",
      "  <p>\n",
      "   I am an iOS and Web Developer. I ❤️ coffee and motorcycles.\n",
      "  </p>\n",
      "  <hr/>\n",
      "  <h3 class=\"heading\">\n",
      "   Books and Teaching\n",
      "  </h3>\n",
      "  <ul>\n",
      "   <li>\n",
      "    The Complete iOS App Development Bootcamp\n",
      "   </li>\n",
      "   <li>\n",
      "    The Complete Web Development Bootcamp\n",
      "   </li>\n",
      "   <li>\n",
      "    100 Days of Code - The Complete Python Bootcamp\n",
      "   </li>\n",
      "  </ul>\n",
      "  <hr/>\n",
      "  <h3 class=\"heading\">\n",
      "   Other Pages\n",
      "  </h3>\n",
      "  <a href=\"https://angelabauer.github.io/cv/hobbies.html\">\n",
      "   My Hobbies\n",
      "  </a>\n",
      "  <a href=\"https://angelabauer.github.io/cv/contact-me.html\">\n",
      "   Contact Me\n",
      "  </a>\n",
      " </body>\n",
      "</html>\n",
      "\n"
     ]
    }
   ],
   "source": [
    "print(soup.prettify())"
   ]
  },
  {
   "cell_type": "markdown",
   "id": "78ec056a-234b-4482-9dec-ac70cdfeb6c1",
   "metadata": {},
   "source": [
    "## ~~~~~~~~~~~~~~~~~~~~~~~~~"
   ]
  },
  {
   "cell_type": "code",
   "execution_count": 7,
   "id": "138e4a1f-0a14-44bb-8cea-b33701da2ef2",
   "metadata": {},
   "outputs": [
    {
     "data": {
      "text/plain": [
       "<a href=\"https://www.appbrewery.co/\">The App Brewery</a>"
      ]
     },
     "execution_count": 7,
     "metadata": {},
     "output_type": "execute_result"
    }
   ],
   "source": [
    "soup.a"
   ]
  },
  {
   "cell_type": "markdown",
   "id": "bd25b4e4-66d0-44c0-b340-70fb6cfa1f5d",
   "metadata": {},
   "source": [
    "## ~~~~~~~~~~~~~~~~~~~~~~~~~"
   ]
  },
  {
   "cell_type": "code",
   "execution_count": 8,
   "id": "86a10c6f-a058-435e-a6fc-ea2e7611c836",
   "metadata": {},
   "outputs": [
    {
     "data": {
      "text/plain": [
       "[<a href=\"https://www.appbrewery.co/\">The App Brewery</a>,\n",
       " <a href=\"https://angelabauer.github.io/cv/hobbies.html\">My Hobbies</a>,\n",
       " <a href=\"https://angelabauer.github.io/cv/contact-me.html\">Contact Me</a>]"
      ]
     },
     "execution_count": 8,
     "metadata": {},
     "output_type": "execute_result"
    }
   ],
   "source": [
    "soup.find_all(\"a\")"
   ]
  },
  {
   "cell_type": "markdown",
   "id": "aeb51b6c-d75a-4930-8c2b-6a6873b937a9",
   "metadata": {},
   "source": [
    "## ~~~~~~~~~~~~~~~~~~~~~~~~~"
   ]
  },
  {
   "cell_type": "code",
   "execution_count": 9,
   "id": "a66c8b20-ec5f-4f1a-8d9c-16802c0908b6",
   "metadata": {},
   "outputs": [
    {
     "name": "stdout",
     "output_type": "stream",
     "text": [
      "[<a href=\"https://www.appbrewery.co/\">The App Brewery</a>, <a href=\"https://angelabauer.github.io/cv/hobbies.html\">My Hobbies</a>, <a href=\"https://angelabauer.github.io/cv/contact-me.html\">Contact Me</a>]\n"
     ]
    }
   ],
   "source": [
    "all_anchor_tags = soup.find_all(\"a\")\n",
    "print(all_anchor_tags)"
   ]
  },
  {
   "cell_type": "code",
   "execution_count": 10,
   "id": "19305674-2a3a-4cb8-94eb-812cf386934a",
   "metadata": {},
   "outputs": [
    {
     "name": "stdout",
     "output_type": "stream",
     "text": [
      "The App Brewery\n",
      "My Hobbies\n",
      "Contact Me\n"
     ]
    }
   ],
   "source": [
    "for tag in all_anchor_tags:\n",
    "    print(tag.getText())"
   ]
  },
  {
   "cell_type": "markdown",
   "id": "5233b75a",
   "metadata": {},
   "source": [
    "## ~~~~~~~~~~~~~~~~~~~~~~~~~"
   ]
  },
  {
   "cell_type": "code",
   "execution_count": 11,
   "id": "121f3bcf",
   "metadata": {},
   "outputs": [
    {
     "name": "stdout",
     "output_type": "stream",
     "text": [
      "https://www.appbrewery.co/\n",
      "https://angelabauer.github.io/cv/hobbies.html\n",
      "https://angelabauer.github.io/cv/contact-me.html\n"
     ]
    }
   ],
   "source": [
    "for tag in all_anchor_tags:\n",
    "    print(tag.get(\"href\"))"
   ]
  },
  {
   "cell_type": "code",
   "execution_count": 12,
   "id": "048fe4fe",
   "metadata": {},
   "outputs": [
    {
     "data": {
      "text/plain": [
       "<h1 id=\"name\">Angela Yu</h1>"
      ]
     },
     "execution_count": 12,
     "metadata": {},
     "output_type": "execute_result"
    }
   ],
   "source": [
    "heading = soup.find(name = \"h1\", id=\"name\")\n",
    "heading"
   ]
  },
  {
   "cell_type": "code",
   "execution_count": 15,
   "id": "5b125dd8",
   "metadata": {},
   "outputs": [
    {
     "name": "stdout",
     "output_type": "stream",
     "text": [
      "<h3 class=\"heading\">Books and Teaching</h3>\n"
     ]
    },
    {
     "data": {
      "text/plain": [
       "['heading']"
      ]
     },
     "execution_count": 15,
     "metadata": {},
     "output_type": "execute_result"
    }
   ],
   "source": [
    "heading = soup.find(name = \"h3\", class_=\"heading\")\n",
    "print(heading)\n",
    "heading.get(\"class\")"
   ]
  },
  {
   "cell_type": "code",
   "execution_count": 16,
   "id": "aa9296ae",
   "metadata": {},
   "outputs": [
    {
     "data": {
      "text/plain": [
       "<a href=\"https://www.appbrewery.co/\">The App Brewery</a>"
      ]
     },
     "execution_count": 16,
     "metadata": {},
     "output_type": "execute_result"
    }
   ],
   "source": [
    "soup.select_one(selector=\"p a\")"
   ]
  },
  {
   "cell_type": "code",
   "execution_count": 17,
   "id": "0b4f315f",
   "metadata": {},
   "outputs": [
    {
     "data": {
      "text/plain": [
       "<h1 id=\"name\">Angela Yu</h1>"
      ]
     },
     "execution_count": 17,
     "metadata": {},
     "output_type": "execute_result"
    }
   ],
   "source": [
    "soup.select_one(selector=\"#name\")"
   ]
  },
  {
   "cell_type": "code",
   "execution_count": 19,
   "id": "54fc9768",
   "metadata": {},
   "outputs": [
    {
     "data": {
      "text/plain": [
       "<h1 id=\"name\">Angela Yu</h1>"
      ]
     },
     "execution_count": 19,
     "metadata": {},
     "output_type": "execute_result"
    }
   ],
   "source": [
    "soup.select_one(\"#name\")"
   ]
  },
  {
   "cell_type": "code",
   "execution_count": 18,
   "id": "e49224cb",
   "metadata": {},
   "outputs": [
    {
     "data": {
      "text/plain": [
       "[<h3 class=\"heading\">Books and Teaching</h3>,\n",
       " <h3 class=\"heading\">Other Pages</h3>]"
      ]
     },
     "execution_count": 18,
     "metadata": {},
     "output_type": "execute_result"
    }
   ],
   "source": [
    "soup.select(\".heading\")"
   ]
  },
  {
   "cell_type": "markdown",
   "id": "782e2b0e",
   "metadata": {},
   "source": [
    "## NEW SOUP"
   ]
  },
  {
   "cell_type": "code",
   "execution_count": 53,
   "id": "a052c66c",
   "metadata": {},
   "outputs": [],
   "source": [
    "import requests\n",
    "response = requests.get(\"https://news.ycombinator.com/news\")\n",
    "soup = BeautifulSoup(response.text,\"html.parser\")"
   ]
  },
  {
   "cell_type": "code",
   "execution_count": 58,
   "id": "2bb2fd10",
   "metadata": {},
   "outputs": [
    {
     "name": "stdout",
     "output_type": "stream",
     "text": [
      "NASA study finds life-sparking energy source and molecule at Enceladus (phys.org)\n",
      "https://phys.org/news/2023-12-nasa-life-sparking-energy-source-molecule.html\n",
      "What is the point of a public key fingerprint? (johndcook.com)\n",
      "https://www.johndcook.com/blog/2023/12/15/pgp-fingerprint/\n",
      "SSH3: SSHv2 using HTTP/3 and QUIC (github.com/francoismichel)\n",
      "https://github.com/francoismichel/ssh3\n",
      "The New Essential Guide to Electronics in Shenzhen (bunniestudios.com)\n",
      "https://www.bunniestudios.com/blog/?p=6886\n",
      "Moving from relational data to events (event-driven.io)\n",
      "https://event-driven.io/en/the_end_is_near_for_crud_data/\n",
      "No Stinking Loops (nsl.com)\n",
      "https://www.nsl.com/\n",
      "Preparing for missions in difficult places (bitecode.dev)\n",
      "https://www.bitecode.dev/p/preparing-for-missions-in-difficult\n",
      "Open source rules engine for Magic: The Gathering (github.com/card-forge)\n",
      "https://github.com/Card-Forge/forge/wiki\n",
      "Show HN: I've built a MySQL proxy that supports online DDL (github.com/wesql)\n",
      "https://github.com/wesql/wescale\n",
      "Chesterton's Fence: A lesson in second order thinking (2021) (fs.blog)\n",
      "https://fs.blog/chestertons-fence/\n",
      "Google moves to end geofence warrants, a surveillance problem it largely created (techcrunch.com)\n",
      "https://techcrunch.com/2023/12/16/google-geofence-warrants-law-enforcement-privacy/\n",
      "Island gigantism (wikipedia.org)\n",
      "https://en.wikipedia.org/wiki/Island_gigantism\n",
      "Causal Trees (farley.ai)\n",
      "https://www.farley.ai/posts/causal\n",
      "Swift was always going to be part of the OS (2022) (belkadan.com)\n",
      "https://belkadan.com/blog/2022/10/Swift-in-the-OS/\n",
      "Structure of FTS5 Index in SQLite (darksi.de)\n",
      "https://darksi.de/13.sqlite-fts5-structure/\n",
      "The falling nutritional value of crops (jeroenvanbaar.substack.com)\n",
      "https://jeroenvanbaar.substack.com/p/data-dispatch-4-the-falling-nutritional\n",
      "Christmas deliveries at risk as shipping giant suspends Red Sea journeys (telegraph.co.uk)\n",
      "https://www.telegraph.co.uk/business/2023/12/15/christmas-deliveries-risk-shipping-giant-suspends-red-sea/\n",
      "Calculation before we went digital [pdf] (nicolamarras.it)\n",
      "https://www.nicolamarras.it/Was-There-Life-Before-Computer-en.pdf\n",
      "Emerge (YC W21) is hiring a senior front end engineer (remote, small team) (emergetools.com)\n",
      "https://www.emergetools.com/careers/jobs/senior-frontend-engineer\n",
      "I bricked my Christmas lights (whizzy.org)\n",
      "https://www.whizzy.org/2023-12-14-bricked-xmas/\n",
      "Sydney man dubbed the 'Annihilator' wins spreadsheet world championship (theguardian.com)\n",
      "https://www.theguardian.com/australia-news/2023/dec/15/you-didnt-just-succeed-you-exceled-sydney-man-dubbed-the-annihilator-wins-excel-world-championship\n",
      "Astronomers detect almost 100 new extremely metal-poor galaxies (phys.org)\n",
      "https://phys.org/news/2023-12-astronomers-extremely-metal-poor-galaxies.html\n",
      "Act-R the theory is embodied in ACT-R the software (cmu.edu)\n",
      "http://act-r.psy.cmu.edu/software/\n",
      "Advancements in machine learning for machine learning (research.google)\n",
      "https://blog.research.google/2023/12/advancements-in-machine-learning-for.html\n",
      "Hubless-wheel electric penny farthing is a one-of-a-kind masterpiece (newatlas.com)\n",
      "https://newatlas.com/bicycles/penn-e-farthing-hubless-wheel-electric-penny-farthing/\n",
      "Show HN: SQL Polyglot (codapi.org)\n",
      "https://codapi.org/sql/\n",
      "A close look at a spinlock (2021) (regehr.org)\n",
      "https://blog.regehr.org/archives/2173\n",
      "Interview: The Threat of Self-Censorship in Science (undark.org)\n",
      "https://undark.org/2023/12/15/interview-self-censorship/\n",
      "Mutual Friends: The Adventures of Charles Dickens and Wilkie Collins (quillette.com)\n",
      "https://quillette.com/2023/12/11/mutual-friends-the-adventures-of-charles-dickens-wilkie-collins/\n",
      "Bluetooth keystroke-injection in Android, Linux, macOS and iOS (github.com/skysafe)\n",
      "https://github.com/skysafe/reblog/tree/main/cve-2023-45866\n"
     ]
    }
   ],
   "source": [
    "\n",
    "all_anchor_tags = soup.find_all(\"span\" , class_=\"titleline\")\n",
    "for tag in all_anchor_tags:\n",
    "    print(tag.getText())\n",
    "    print(tag.find_next(\"a\").get('href'))\n"
   ]
  },
  {
   "cell_type": "code",
   "execution_count": 40,
   "id": "7a294fa8",
   "metadata": {},
   "outputs": [
    {
     "name": "stdout",
     "output_type": "stream",
     "text": [
      "806\n"
     ]
    }
   ],
   "source": [
    "print(len(soup.find_all()))\n",
    "list_tags = soup.find_all()\n"
   ]
  }
 ],
 "metadata": {
  "kernelspec": {
   "display_name": "Python 3 (ipykernel)",
   "language": "python",
   "name": "python3"
  },
  "language_info": {
   "codemirror_mode": {
    "name": "ipython",
    "version": 3
   },
   "file_extension": ".py",
   "mimetype": "text/x-python",
   "name": "python",
   "nbconvert_exporter": "python",
   "pygments_lexer": "ipython3",
   "version": "3.12.0"
  }
 },
 "nbformat": 4,
 "nbformat_minor": 5
}
